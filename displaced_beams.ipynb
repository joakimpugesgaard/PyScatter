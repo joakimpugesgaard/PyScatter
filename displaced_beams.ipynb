{
 "cells": [
  {
   "cell_type": "code",
   "execution_count": 1,
   "metadata": {},
   "outputs": [],
   "source": [
    "import numpy as np\n",
    "import scipy\n",
    "import scipy.special as sp\n",
    "import matplotlib.pyplot as plt\n",
    "import mpl_toolkits.mplot3d.axes3d as axes3d\n",
    "from mpl_toolkits.axes_grid1 import make_axes_locatable\n",
    "from Legendre import *\n",
    "from clebschgordan import *\n",
    "from wigner3j import *\n",
    "from vsh import *\n",
    "from spharm import *\n",
    "from hankel import *\n",
    "from domain import *\n",
    "from LaguerreGauss import *\n",
    "from d_jmp import *\n",
    "from C_jlp import *\n",
    "from matplotlib import rc\n",
    "from mie_coefs import *\n",
    "\n",
    "## Define Standard Units\n",
    "fsize = 22\n",
    "tsize = 15\n",
    "tdir = 'in'\n",
    "major = 5\n",
    "minor = 3\n",
    "style = 'default'\n",
    "\n",
    "params = {\n",
    "    'figure.figsize': (15,12),\n",
    "    'savefig.dpi': 75,\n",
    "    'text.usetex': False,\n",
    "    'font.size': fsize,\n",
    "    'legend.fontsize': tsize,\n",
    "    'legend.title_fontsize': tsize,\n",
    "    'mathtext.fontset' : 'stix',\n",
    "    'font.family' : 'STIXGeneral',    \n",
    "    'axes.labelsize':15,\n",
    "    'axes.titlesize':20,\n",
    "    'lines.linewidth':2.5,\n",
    "    'axes.grid': False,\n",
    "    'axes.labelweight':'bold',\n",
    "    'legend.loc': 'upper right',\n",
    "    'xtick.labelsize':'x-small',\n",
    "    'ytick.labelsize':'x-small',\n",
    "}\n",
    "plt.rcParams.update(params)"
   ]
  },
  {
   "cell_type": "code",
   "execution_count": 2,
   "metadata": {},
   "outputs": [],
   "source": [
    "def d_jmp(j, m, p, Theta):\n",
    "    lnCoef = 0.5 * (sp.gammaln(j - m + 1) + sp.gammaln(j + m + 1) - sp.gammaln(j + p + 1) - sp.gammaln(j - p + 1))\n",
    "    cosFac = np.cos(Theta / 2) ** (m + p)\n",
    "    sinFac = (-np.sin(Theta / 2)) ** (m - p)\n",
    "    \n",
    "    n = j - m\n",
    "    alpha = m - p\n",
    "    beta = m + p\n",
    "    hyp = sp.eval_jacobi(n, alpha, beta, np.cos(Theta))\n",
    "    \n",
    "    d_jmp = np.exp(lnCoef) * cosFac * sinFac * hyp\n",
    "    \n",
    "    return d_jmp"
   ]
  },
  {
   "cell_type": "markdown",
   "metadata": {},
   "source": [
    "\\begin{align*}\n",
    "    D_{m^{\\prime}m}^j(\\alpha\\beta\\gamma)=e^{-im^{\\prime}\\alpha}d_{m^{\\prime}m}^j(\\beta)e^{-im\\gamma}\n",
    "\\end{align*}"
   ]
  },
  {
   "cell_type": "code",
   "execution_count": 4,
   "metadata": {},
   "outputs": [],
   "source": [
    "def D_jmp(j, m, p, alpha, beta, gamma):\n",
    "    fac1 = np.exp(-1j * m * alpha)\n",
    "    fac2 = d_jmp(j, m, p, beta)\n",
    "    fac3 = np.exp(-1j * p * gamma)\n",
    "    return fac1 * fac2 * fac3"
   ]
  },
  {
   "cell_type": "code",
   "execution_count": null,
   "metadata": {},
   "outputs": [],
   "source": [
    "def compute_C_off(j_max, mz, p, k, d, D_matrix_func, clebsch_func, C_con):\n",
    "    \"\"\"\n",
    "    Compute C^off as a vector for j in range(0, j_max).\n",
    "    \n",
    "    Parameters:\n",
    "    - j_max: Maximum j value\n",
    "    - mz, p: Indices\n",
    "    - k, d: Wavevector and displacement parameter\n",
    "    - D_matrix_func: Function to compute Wigner D-matrix elements\n",
    "    - clebsch_func: Function to compute Clebsch-Gordan coefficients\n",
    "    - C_con: Known C^on values\n",
    "    \n",
    "    Returns:\n",
    "    - C_off: Array of C^off values for each j\n",
    "    \"\"\"\n",
    "    C_off = np.zeros(j_max+1, dtype=np.complex128)\n",
    "    \n",
    "    for j in range(j_max+1):\n",
    "        sum_Ln = 0\n",
    "        for j_prime in range(j_max+1):\n",
    "            for L in range(j + j_prime + 1):  # Summation over L\n",
    "                J_L = spherical_jn(L, k*d)  # Compute Bessel function\n",
    "                factor = (2*L + 1) * (-1j)**L * J_L\n",
    "                \n",
    "                for n in range(-min(j, j_prime), min(j, j_prime)+1):\n",
    "                    CG_1 = clebsch_func(j, n, L, 0, j_prime, n)\n",
    "                    CG_2 = clebsch_func(j, p, L, 0, j_prime, p)\n",
    "                    \n",
    "                    sum_Ln += factor * CG_1 * CG_2\n",
    "            \n",
    "            # Compute Wigner D-matrix contributions\n",
    "            D_jm = D_matrix_func(j, mz, j_prime)\n",
    "            D_jn = D_matrix_func(j_prime, n, mz)\n",
    "            \n",
    "            C_off[j] += D_jm * D_jn * C_con[j_prime, mz, p] * sum_Ln\n",
    "\n",
    "    return C_off\n"
   ]
  }
 ],
 "metadata": {
  "kernelspec": {
   "display_name": "Python 3",
   "language": "python",
   "name": "python3"
  },
  "language_info": {
   "codemirror_mode": {
    "name": "ipython",
    "version": 3
   },
   "file_extension": ".py",
   "mimetype": "text/x-python",
   "name": "python",
   "nbconvert_exporter": "python",
   "pygments_lexer": "ipython3",
   "version": "3.12.4"
  }
 },
 "nbformat": 4,
 "nbformat_minor": 2
}
