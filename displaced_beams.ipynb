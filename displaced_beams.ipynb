{
 "cells": [
  {
   "cell_type": "code",
   "execution_count": null,
   "metadata": {},
   "outputs": [],
   "source": [
    "import numpy as np\n",
    "import scipy\n",
    "import scipy.special as sp\n",
    "import matplotlib.pyplot as plt\n",
    "import mpl_toolkits.mplot3d.axes3d as axes3d\n",
    "from mpl_toolkits.axes_grid1 import make_axes_locatable\n",
    "from clebschgordan import *\n",
    "from wigner3j import *\n",
    "from C_jlp import *\n",
    "from matplotlib import rc\n",
    "from mie_coefs import *\n",
    "from focused_beams_class import *\n",
    "from domain_class import *\n",
    "from Multipoles import *\n",
    "\n",
    "\n",
    "\n",
    "\n",
    "## Define Standard Units\n",
    "fsize = 22\n",
    "tsize = 15\n",
    "tdir = 'in'\n",
    "major = 5\n",
    "minor = 3\n",
    "style = 'default'\n",
    "\n",
    "params = {\n",
    "    'figure.figsize': (15,12),\n",
    "    'savefig.dpi': 75,\n",
    "    'text.usetex': False,\n",
    "    'font.size': fsize,\n",
    "    'legend.fontsize': tsize,\n",
    "    'legend.title_fontsize': tsize,\n",
    "    'mathtext.fontset' : 'stix',\n",
    "    'font.family' : 'STIXGeneral',    \n",
    "    'axes.labelsize':15,\n",
    "    'axes.titlesize':20,\n",
    "    'lines.linewidth':2.5,\n",
    "    'axes.grid': False,\n",
    "    'axes.labelweight':'bold',\n",
    "    'legend.loc': 'upper right',\n",
    "    'xtick.labelsize':'x-small',\n",
    "    'ytick.labelsize':'x-small',\n",
    "}\n",
    "plt.rcParams.update(params)"
   ]
  },
  {
   "cell_type": "code",
   "execution_count": 35,
   "metadata": {},
   "outputs": [
    {
     "name": "stdout",
     "output_type": "stream",
     "text": [
      "Numba version: 0.61.0\n",
      "SciPy version: 1.15.1\n",
      "Numba-Scipy version: 0.2.0\n"
     ]
    }
   ],
   "source": [
    "import numba\n",
    "import scipy\n",
    "import numba_scipy\n",
    "\n",
    "print(\"Numba version:\", numba.__version__)\n",
    "print(\"SciPy version:\", scipy.__version__)\n",
    "print(\"Numba-Scipy version:\", numba_scipy.__version__)"
   ]
  },
  {
   "cell_type": "code",
   "execution_count": 40,
   "metadata": {},
   "outputs": [
    {
     "ename": "ModuleNotFoundError",
     "evalue": "No module named 'numba_special'",
     "output_type": "error",
     "traceback": [
      "\u001b[0;31m---------------------------------------------------------------------------\u001b[0m",
      "\u001b[0;31mModuleNotFoundError\u001b[0m                       Traceback (most recent call last)",
      "Cell \u001b[0;32mIn[40], line 1\u001b[0m\n\u001b[0;32m----> 1\u001b[0m \u001b[38;5;28;01mimport\u001b[39;00m \u001b[38;5;21;01mnumba_special\u001b[39;00m\n",
      "\u001b[0;31mModuleNotFoundError\u001b[0m: No module named 'numba_special'"
     ]
    }
   ],
   "source": [
    "import numba_special\n"
   ]
  },
  {
   "cell_type": "code",
   "execution_count": 3,
   "metadata": {},
   "outputs": [],
   "source": [
    "def d_jmp(j, m, p, Theta):\n",
    "    M = max(abs(m), abs(p))\n",
    "    N = min(abs(m), abs(p))\n",
    "    \n",
    "    lnCoef = 0.5 * (sp.gammaln(j - M + 1) + sp.gammaln(j + M + 1) - sp.gammaln(j + N + 1) - sp.gammaln(j - N + 1))\n",
    "\n",
    "    cosFac = np.cos(Theta / 2) ** (abs(m + p))\n",
    "    sinFac = (np.sin(Theta / 2)) ** (abs(m-p)) ## p-m? \n",
    "    \n",
    "    n = j - M\n",
    "    alpha = abs(m - p)\n",
    "    beta = abs(m + p)\n",
    "    hyp = sp.eval_jacobi(n, alpha, beta, np.cos(Theta))\n",
    "    \n",
    "    if hyp == 0:\n",
    "        d_jmp = 0\n",
    "    else:\n",
    "        d_jmp = np.exp(lnCoef) * cosFac * sinFac * hyp * (-1) ** (0.5*(p-m-abs(m-p)))\n",
    "    \n",
    "    return d_jmp"
   ]
  },
  {
   "cell_type": "markdown",
   "metadata": {},
   "source": [
    "\\begin{align*}\n",
    "    D_{m^{\\prime}m}^j(\\alpha\\beta\\gamma)=e^{-im^{\\prime}\\alpha}d_{m^{\\prime}m}^j(\\beta)e^{-im\\gamma}\n",
    "\\end{align*}"
   ]
  },
  {
   "cell_type": "code",
   "execution_count": 4,
   "metadata": {},
   "outputs": [],
   "source": [
    "def D_jmp(j, m, p, alpha, beta, gamma):\n",
    "    fac1 = np.exp(-1j * m * alpha)\n",
    "    fac2 = d_jmp(j, m, p, beta)\n",
    "    fac3 = np.exp(-1j * p * gamma)\n",
    "    return fac1 * fac2 * fac3"
   ]
  },
  {
   "cell_type": "code",
   "execution_count": 24,
   "metadata": {},
   "outputs": [],
   "source": [
    "#initialize domain\n",
    "size = 4\n",
    "planes = {'xy', 'xz', 'yz'}\n",
    "d = domain(size, planes)\n",
    "\n",
    "wl = 0.632\n",
    "jmax = 10\n",
    "\n",
    "foc = focused_beams(\"LaguerreGauss\", jmax, wl, d, NA=0.9, f=1000, n_lens=1)"
   ]
  },
  {
   "cell_type": "code",
   "execution_count": 25,
   "metadata": {},
   "outputs": [
    {
     "name": "stdout",
     "output_type": "stream",
     "text": [
      "The (2j+1)Cjm_z normalization yields 1.996314\n",
      "The LG integral on the aplanatic lens surface is 0.998\n",
      "\n"
     ]
    },
    {
     "data": {
      "image/png": "[encoded data removed]",
      "text/plain": [
       "<Figure size 800x600 with 1 Axes>"
      ]
     },
     "metadata": {},
     "output_type": "display_data"
    }
   ],
   "source": [
    "C_on = foc.C_jlp(l = 0, p = 1, q = 0)\n",
    "foc.plot_Cjl(l = 0, p = 1, q = 0)"
   ]
  },
  {
   "cell_type": "code",
   "execution_count": 26,
   "metadata": {},
   "outputs": [],
   "source": [
    "#@njit\n",
    "def process_d(d):\n",
    "    \"\"\" \n",
    "    Decompose d into a magnitude and two rotation angles: \n",
    "        polar (theta) and azimuthal (phi)\n",
    "    Parameters:\n",
    "        d: numpy array of shape (3,) specifying the cartesian coordinates\n",
    "    Returns:\n",
    "        d: float: magnitude of d\n",
    "        theta: float: polar angle in radians\n",
    "        phi: float: azimuthal angle in radians\n",
    "    \"\"\"\n",
    "    # Check if d is a numpy array\n",
    "    if not isinstance(d, np.ndarray):\n",
    "        d = np.array(d)\n",
    "    # Check if d has the correct shape\n",
    "    if d.shape != (3,):\n",
    "        raise ValueError(\"Input array must have shape (3,)\")\n",
    "    if np.linalg.norm(d) == 0:\n",
    "        print(\"displacement is zero\")\n",
    "        return 0, 0, 0\n",
    "    else:\n",
    "        mag = np.linalg.norm(d)\n",
    "        d = d / mag # normalize\n",
    "        # Calculate the angles\n",
    "        theta = np.arccos(d[2])\n",
    "        phi = np.arctan2(d[1], d[0])\n",
    "        \n",
    "        return mag, theta, phi       "
   ]
  },
  {
   "cell_type": "code",
   "execution_count": 27,
   "metadata": {},
   "outputs": [
    {
     "name": "stdout",
     "output_type": "stream",
     "text": [
      "4.0 1.5707963267948966 1.5707963267948966\n"
     ]
    }
   ],
   "source": [
    "d = np.array([0, 4, 0])\n",
    "m, theta, phi = process_d(d)\n",
    "print(m, theta, phi)"
   ]
  },
  {
   "cell_type": "code",
   "execution_count": 28,
   "metadata": {},
   "outputs": [
    {
     "data": {
      "text/plain": [
       "(-2.2962127484012877e-17-0.37500000000000006j)"
      ]
     },
     "execution_count": 28,
     "metadata": {},
     "output_type": "execute_result"
    }
   ],
   "source": [
    "D_jmp(4, -1, 1, theta, phi, 0)"
   ]
  },
  {
   "cell_type": "markdown",
   "metadata": {},
   "source": [
    "\\begin{align*}\n",
    "    C_{j,m_z,p}^{off,\\mathbf{d}} = \\sum_{n=-\\min (j, j^{\\prime})}^{\\min (j, j^{\\prime})} \\sum_{L=0}^\\infty\n",
    "    (2L+1)(-i)^L j_L(kd) \\times\n",
    "    \\braket{j, n; L,0|j^\\prime,n}\\braket{j, p; L,0|j^\\prime,p}\n",
    "    \\sum_{j^\\prime=m_z^*}^\\infty D^j_{m_z n}(\\mathrm{\\hat{d}})D^j_{m_z^* n}(\\mathrm{\\hat{d}}) C_{j^\\prime m_z^* p}^{on}\n",
    "\\end{align*}"
   ]
  },
  {
   "cell_type": "markdown",
   "metadata": {},
   "source": [
    "If the displacement is along z:\n",
    "\\begin{align*}\n",
    "    C_{j,m_z,p}^{off,\\mathbf{d}} =  \\sum_{j^\\prime=m_z^*}^\\infty C_{j^\\prime m_z^* p}^{on} \\sum_{L=0}^\\infty\n",
    "    (2L+1)(-i)^L j_L(kd) \\times\n",
    "    \\braket{j, n; L,0|j^\\prime,n}\\braket{j, p; L,0|j^\\prime,p}\n",
    "\\end{align*}"
   ]
  },
  {
   "cell_type": "code",
   "execution_count": 29,
   "metadata": {},
   "outputs": [],
   "source": [
    "def get_Jl(L, x):\n",
    "    return sp.spherical_jn(L, x)"
   ]
  },
  {
   "cell_type": "code",
   "execution_count": 41,
   "metadata": {},
   "outputs": [],
   "source": [
    "#@jit(nopython=True)\n",
    "def compute_C_off(j_max, mz_star, p, k, d, C_on):\n",
    "    \"\"\"\n",
    "    Compute C^off as a 2D array with:\n",
    "    - j from 0 to j_max (axis 1)\n",
    "    - m_z from -j_max to j_max (axis 2)\n",
    "\n",
    "    Parameters:\n",
    "    - j_max: Maximum j value\n",
    "    - mz_star: Fixed m_z* value\n",
    "    - p: Index p\n",
    "    - k: Wavevector magnitude\n",
    "    - d: Displacement vector (numpy array with shape (3,))\n",
    "    - C_on: Known C^on values (1D array, indexed by j')\n",
    "\n",
    "    Returns:\n",
    "    - C_off: 2D array of shape (j_max+1, 2*j_max+1)\n",
    "    \"\"\"\n",
    "    C_off = np.zeros((j_max + 1, 2 * j_max + 1), dtype=np.complex128)  # Initialize C_off array\n",
    "    \n",
    "    # Process the displacement vector into spherical coordinates\n",
    "    mag, theta, phi = process_d(d)\n",
    "    \n",
    "    Lvals = np.arange(0, 2* j_max + 1)\n",
    "    #simple case: z displacemet\n",
    "    if ((d[0] == 0) and (d[1] == 0)):\n",
    "        for j in range(j_max + 1):\n",
    "            for m_z in range(-j_max, j_max + 1):\n",
    "                sum_Ln = 0\n",
    "                for L in Lvals:\n",
    "                    J_L = get_Jl(L, k * mag)\n",
    "                    factor = (2 * L + 1) * (-1j)**L * J_L\n",
    "                    CG_1 = clebsch_gordan(j, L, j_prime, mz_star, 0, mz_star)\n",
    "                    CG_2 = clebsch_gordan(j, L, j_prime, p, 0, p)\n",
    "                    sum_Ln += factor * CG_1 * CG_2\n",
    "\n",
    "                # Store result in 2D array, shifting index for m_z\n",
    "                C_off[j, m_z + j_max] += sum_Ln * C_on[j_prime]\n",
    "    else:       \n",
    "        for j in range(j_max + 1):\n",
    "            for m_z in range(-j_max, j_max + 1):\n",
    "                for j_prime in range(mz_star, j_max + 1):\n",
    "                    sum_Ln = 0\n",
    "                    for L in Lvals:\n",
    "                        J_L = get_Jl(L, k * mag)\n",
    "                        factor = (2 * L + 1) * (-1j)**L * J_L\n",
    "                        for n in range(-min(j, j_prime), min(j, j_prime) + 1):\n",
    "                            CG_1 = clebsch_gordan(j, L, j_prime, n, 0, n)\n",
    "                            CG_2 = clebsch_gordan(j, L, j_prime, p, 0, p)\n",
    "                            D1 = D_jmp(j_prime, mz_star, n, phi, theta, 0) \n",
    "                            D2 = D_jmp(j, m_z, n, phi, theta, 0)\n",
    "                            sum_Ln += factor * CG_1 * CG_2 * D1 * D2\n",
    "                            \n",
    "                        if sum_Ln != 0:    \n",
    "                            pass\n",
    "                            #print(\"sum_Ln\", sum_Ln)\n",
    "\n",
    "                    C_off[j, m_z + j_max] += C_on[j_prime] * sum_Ln\n",
    "\n",
    "    return C_off\n"
   ]
  },
  {
   "cell_type": "code",
   "execution_count": null,
   "metadata": {},
   "outputs": [],
   "source": [
    "d = np.array([0, 0.3, 0]) #displacement along y\n",
    "\n",
    "k = 2*np.pi / wl\n",
    "l = 0; p = 1; q = 0\n",
    "mz_star = l+p\n",
    "C_on = foc.C_jlp(l, p, q)[0]\n",
    "C_off = compute_C_off(jmax, mz_star, p, k, d, C_on)\n",
    "\n",
    "C_off = C_off.sum(axis=1)  # Sum over m_z to get C_off for each j"
   ]
  },
  {
   "cell_type": "code",
   "execution_count": 39,
   "metadata": {},
   "outputs": [
    {
     "data": {
      "image/png": "[encoded data removed]",
      "text/plain": [
       "<Figure size 800x600 with 2 Axes>"
      ]
     },
     "metadata": {},
     "output_type": "display_data"
    }
   ],
   "source": [
    "#plot C_off\n",
    "fig, ax = plt.subplots(1, 2, figsize=(8, 6))\n",
    "ax[0].bar(np.arange(0, len(C_off)), np.abs(C_off)**2, alpha=0.7)\n",
    "ax[0].set_ylabel(r\"$\\mathbf{|C^{off}_{jm_zp}|}^2$\", fontsize=30)\n",
    "ax[0].set_xlabel('j', fontsize=30)\n",
    "ax[0].set_xlim(0, jmax)\n",
    "ax[0].set_xticks(range(0, jmax + 1, 2))  # Set x-ticks to increase in steps of 2\n",
    "ax[0].tick_params(axis='both', which='major', labelsize=20)\n",
    "ax[0].set_title(\"Displacement along y\", fontsize=30)\n",
    "ax[1].bar(np.arange(0, len(C_off)), np.abs(foc.C_jlp(l = 0, p = 1, q = 0)[0])**2, alpha=0.7)\n",
    "ax[1].set_ylabel(r\"$\\mathbf{|C^{on}_{jm_zp}|}^2$\", fontsize=30)\n",
    "ax[1].set_xlabel('j', fontsize=30)\n",
    "ax[1].set_xlim(0, jmax)\n",
    "ax[1].set_xticks(range(0, jmax + 1, 2))  # Set x-ticks to increase in steps of 2\n",
    "ax[1].tick_params(axis='both', which='major', labelsize=20)\n",
    "ax[1].set_title(\"No displacement\", fontsize=30)\n",
    "\n",
    "fig.tight_layout()\n",
    "plt.show()"
   ]
  },
  {
   "cell_type": "code",
   "execution_count": null,
   "metadata": {},
   "outputs": [
    {
     "data": {
      "text/plain": [
       "(11,)"
      ]
     },
     "execution_count": 237,
     "metadata": {},
     "output_type": "execute_result"
    }
   ],
   "source": [
    "C_off.shape"
   ]
  },
  {
   "cell_type": "code",
   "execution_count": null,
   "metadata": {},
   "outputs": [
    {
     "name": "stdout",
     "output_type": "stream",
     "text": [
      "[0.00000000e+000+0.00000000e+000j 1.52065852e-011-2.08285417e-011j\n",
      " 3.46145870e-027-5.53529528e-027j 5.25646814e-043-9.07318419e-043j\n",
      " 5.98209498e-059-1.07836359e-058j 5.43584310e-075-1.00734253e-074j\n",
      " 4.10735253e-091-7.75701866e-091j 2.65468507e-107-5.08259447e-107j\n",
      " 1.49850680e-123-2.89863889e-123j 7.50635578e-140-1.46359940e-139j\n",
      " 3.37912146e-156-6.63043616e-156j]\n"
     ]
    }
   ],
   "source": [
    "print(C_off)"
   ]
  },
  {
   "cell_type": "code",
   "execution_count": null,
   "metadata": {},
   "outputs": [],
   "source": []
  }
 ],
 "metadata": {
  "kernelspec": {
   "display_name": "helicity",
   "language": "python",
   "name": "python3"
  },
  "language_info": {
   "codemirror_mode": {
    "name": "ipython",
    "version": 3
   },
   "file_extension": ".py",
   "mimetype": "text/x-python",
   "name": "python",
   "nbconvert_exporter": "python",
   "pygments_lexer": "ipython3",
   "version": "3.12.4"
  }
 },
 "nbformat": 4,
 "nbformat_minor": 2
}
