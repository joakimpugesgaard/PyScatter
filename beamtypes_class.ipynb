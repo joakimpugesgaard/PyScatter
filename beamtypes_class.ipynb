{
 "cells": [
  {
   "cell_type": "code",
   "execution_count": 1,
   "metadata": {},
   "outputs": [],
   "source": [
    "import numpy as np\n",
    "import scipy\n",
    "import scipy.special as sp\n",
    "import matplotlib.pyplot as plt\n",
    "import mpl_toolkits.mplot3d.axes3d as axes3d\n",
    "from mpl_toolkits.axes_grid1 import make_axes_locatable\n",
    "from domain_class import domain\n",
    "from Multipoles import Multipoles"
   ]
  },
  {
   "cell_type": "code",
   "execution_count": null,
   "metadata": {},
   "outputs": [],
   "source": [
    "class beamTypes:\n",
    "    def __init__(self, domain, type):\n",
    "        self.domain = domain\n",
    "        self.type = type\n",
    "        \n",
    "    def LG(wl, q, l, w, z0, rho, z):\n",
    "        \"\"\"Returns a LaguerreGauss-polynomial with the parameters from the aplanatic lens model\n",
    "        \n",
    "        Args:\n",
    "            wl (float): wavelength\n",
    "            q (int): degree of the polynomial (radial index)\n",
    "            l (float): azimuthal index\n",
    "            w (float): beam waist\n",
    "            z0 (float): Rayleigh range\n",
    "            rho (float array): _description_\n",
    "            z (float): z coordinate plane\n",
    "        \"\"\"\n",
    "        wn = 2*np.pi/wl #wavenumber\n",
    "        logN = lambda l,q: 0.5*(sp.gammaln(q+1)-sp.gammaln(q+l+1)-np.log(np.pi))\n",
    "\n",
    "        bracket = 1j*(-(wn*rho**2*z)/(2*(z**2+z0)) + (2*q*l+1)*np.arctan(z/z0))\n",
    "        \n",
    "        #Calculate Laguerre polynomial\n",
    "        l = abs(l)\n",
    "        L = sp.genlaguerre(q, l)(2*rho**2/(w**2))\n",
    "\n",
    "        logLG = logN(l,q) - rho**2/(w**2) + l*np.log(rho) + (l+1)*(0.5*np.log(2) - np.log(w))# + bracket \n",
    "        \n",
    "        LG = np.exp(logLG)*L\n",
    "        \n",
    "        return LG"
   ]
  }
 ],
 "metadata": {
  "kernelspec": {
   "display_name": "helicity",
   "language": "python",
   "name": "python3"
  },
  "language_info": {
   "codemirror_mode": {
    "name": "ipython",
    "version": 3
   },
   "file_extension": ".py",
   "mimetype": "text/x-python",
   "name": "python",
   "nbconvert_exporter": "python",
   "pygments_lexer": "ipython3",
   "version": "3.12.4"
  }
 },
 "nbformat": 4,
 "nbformat_minor": 2
}
