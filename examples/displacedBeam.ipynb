{
 "cells": [
  {
   "cell_type": "markdown",
   "id": "7efb4758",
   "metadata": {},
   "source": [
    "# Test of the domain class"
   ]
  },
  {
   "cell_type": "markdown",
   "id": "f86b5794",
   "metadata": {},
   "source": [
    "Aug. 2025"
   ]
  },
  {
   "cell_type": "markdown",
   "id": "d0f3897f",
   "metadata": {},
   "source": [
    "## Description\n",
    "Not implemented yet"
   ]
  },
  {
   "cell_type": "markdown",
   "id": "b2680edd",
   "metadata": {},
   "source": []
  }
 ],
 "metadata": {
  "language_info": {
   "name": "python"
  }
 },
 "nbformat": 4,
 "nbformat_minor": 5
}
